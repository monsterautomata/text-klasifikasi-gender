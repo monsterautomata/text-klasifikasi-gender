{
 "cells": [
  {
   "cell_type": "markdown",
   "metadata": {},
   "source": [
    "# Teks Klasifikasi Gender"
   ]
  },
  {
   "cell_type": "markdown",
   "metadata": {},
   "source": [
    "Oleh Fikri Rozan Imadudin/ 1301150768, Riko Bintang Purnomo Putra /1301154714, Jeqwalin Claudya Patandianan /1301150737"
   ]
  },
  {
   "cell_type": "markdown",
   "metadata": {},
   "source": [
    "# Inisialisasi"
   ]
  },
  {
   "cell_type": "code",
   "execution_count": 19,
   "metadata": {},
   "outputs": [
    {
     "data": {
      "text/plain": [
       "'module://ipykernel.pylab.backend_inline'"
      ]
     },
     "execution_count": 19,
     "metadata": {},
     "output_type": "execute_result"
    }
   ],
   "source": [
    "#inisialisasi\n",
    "import pandas as pd \n",
    "import numpy as np\n",
    "from sklearn.naive_bayes import MultinomialNB\n",
    "from sklearn import metrics\t\n",
    "from nltk.corpus import stopwords\n",
    "from sklearn.feature_extraction.text import CountVectorizer\n",
    "from sklearn.ensemble import BaggingClassifier\n",
    "import matplotlib.pyplot as plt\n",
    "import matplotlib\n",
    "%matplotlib inline  \n",
    "matplotlib.get_backend()"
   ]
  },
  {
   "cell_type": "code",
   "execution_count": 2,
   "metadata": {},
   "outputs": [],
   "source": [
    "def preprocessing(data): #fungsi preprocessing\n",
    "    stop_words = stopwords.words('Indonesian') #stopword bahasa indonesia\n",
    "    data[\"Komentar\"] = data[\"Komentar\"].str.lower() #casefolding\n",
    "    data['Komentar'] = data.Komentar.str.replace(\"[^\\w\\s]\", \"\") #punctuation removal\n",
    "    data.Komentar = data.Komentar.replace('\\d+', '', regex = True) #number removal\n",
    "    data.Komentar = data.Komentar.replace('posts','', regex = True)\n",
    "    data.Komentar = data.Komentar.replace('kaskus','', regex = True)\n",
    "    data.Komentar = data.Komentar.replace('addict','', regex = True)\n",
    "    data.Komentar = data.Komentar.replace('kaskuser','', regex = True)\n",
    "    data.Komentar = data.Komentar.replace('maniac','', regex = True)\n",
    "    data.Komentar = data.Komentar.replace('holic','', regex = True)\n",
    "    data['Komentar'] = data['Komentar'].apply(lambda x: ' '.join([item for item in x.split() if item not in stop_words]))#stopword removal\n",
    "    return data"
   ]
  },
  {
   "cell_type": "markdown",
   "metadata": {},
   "source": [
    "# Memasukan data\n",
    "Kami menggunakan pandas sebagai library untuk memasukan dataset"
   ]
  },
  {
   "cell_type": "code",
   "execution_count": 3,
   "metadata": {},
   "outputs": [
    {
     "data": {
      "text/html": [
       "<div>\n",
       "<style scoped>\n",
       "    .dataframe tbody tr th:only-of-type {\n",
       "        vertical-align: middle;\n",
       "    }\n",
       "\n",
       "    .dataframe tbody tr th {\n",
       "        vertical-align: top;\n",
       "    }\n",
       "\n",
       "    .dataframe thead th {\n",
       "        text-align: right;\n",
       "    }\n",
       "</style>\n",
       "<table border=\"1\" class=\"dataframe\">\n",
       "  <thead>\n",
       "    <tr style=\"text-align: right;\">\n",
       "      <th></th>\n",
       "      <th>Komentar</th>\n",
       "      <th>Gender</th>\n",
       "    </tr>\n",
       "  </thead>\n",
       "  <tbody>\n",
       "    <tr>\n",
       "      <th>95</th>\n",
       "      <td>becaksalto\\n08-07-2016 16:32\\nKaskus Addict\\nP...</td>\n",
       "      <td>pria</td>\n",
       "    </tr>\n",
       "    <tr>\n",
       "      <th>96</th>\n",
       "      <td>faizhabbi\\n08-07-2016 06:31\\nKaskus Addict\\nPo...</td>\n",
       "      <td>pria</td>\n",
       "    </tr>\n",
       "    <tr>\n",
       "      <th>97</th>\n",
       "      <td>bartsimpson\\n08-07-2016 06:24\\nKaskus Addict\\n...</td>\n",
       "      <td>pria</td>\n",
       "    </tr>\n",
       "    <tr>\n",
       "      <th>98</th>\n",
       "      <td>dscreamer\\n07-03-2014 16:56\\nKaskus Addict\\nPo...</td>\n",
       "      <td>pria</td>\n",
       "    </tr>\n",
       "    <tr>\n",
       "      <th>99</th>\n",
       "      <td>de.la.valliere\\n09-09-2016 08:10\\nAktivis Kask...</td>\n",
       "      <td>wanita</td>\n",
       "    </tr>\n",
       "    <tr>\n",
       "      <th>100</th>\n",
       "      <td>ichairmanita28\\n20-01-2017 18:41\\nKaskus Mania...</td>\n",
       "      <td>wanita</td>\n",
       "    </tr>\n",
       "    <tr>\n",
       "      <th>101</th>\n",
       "      <td>klopca123\\n07-08-2017 07:36\\nKaskuser\\nPosts: ...</td>\n",
       "      <td>wanita</td>\n",
       "    </tr>\n",
       "    <tr>\n",
       "      <th>102</th>\n",
       "      <td>delia.adel \\n11-03-2019 13:53\\nKASKUS Plus\\nPo...</td>\n",
       "      <td>wanita</td>\n",
       "    </tr>\n",
       "    <tr>\n",
       "      <th>103</th>\n",
       "      <td>zhangsunyu\\n14-03-2019 02:18\\nKaskuser\\nPosts:...</td>\n",
       "      <td>wanita</td>\n",
       "    </tr>\n",
       "    <tr>\n",
       "      <th>104</th>\n",
       "      <td>andita2623\\n05-10-2013 15:41\\nKaskus Addict\\nP...</td>\n",
       "      <td>wanita</td>\n",
       "    </tr>\n",
       "  </tbody>\n",
       "</table>\n",
       "</div>"
      ],
      "text/plain": [
       "                                              Komentar  Gender\n",
       "95   becaksalto\\n08-07-2016 16:32\\nKaskus Addict\\nP...    pria\n",
       "96   faizhabbi\\n08-07-2016 06:31\\nKaskus Addict\\nPo...    pria\n",
       "97   bartsimpson\\n08-07-2016 06:24\\nKaskus Addict\\n...    pria\n",
       "98   dscreamer\\n07-03-2014 16:56\\nKaskus Addict\\nPo...    pria\n",
       "99   de.la.valliere\\n09-09-2016 08:10\\nAktivis Kask...  wanita\n",
       "100  ichairmanita28\\n20-01-2017 18:41\\nKaskus Mania...  wanita\n",
       "101  klopca123\\n07-08-2017 07:36\\nKaskuser\\nPosts: ...  wanita\n",
       "102  delia.adel \\n11-03-2019 13:53\\nKASKUS Plus\\nPo...  wanita\n",
       "103  zhangsunyu\\n14-03-2019 02:18\\nKaskuser\\nPosts:...  wanita\n",
       "104  andita2623\\n05-10-2013 15:41\\nKaskus Addict\\nP...  wanita"
      ]
     },
     "execution_count": 3,
     "metadata": {},
     "output_type": "execute_result"
    }
   ],
   "source": [
    "# Input Data \n",
    "df = pd.read_csv(\"komentar kaskus gender.csv\",encoding='latin1')#baca data training\n",
    "df.tail(10)"
   ]
  },
  {
   "cell_type": "markdown",
   "metadata": {},
   "source": [
    "# Cleaning data dan Menghapus StopWord\n",
    "Pada tahap ini akan dilakukan penghapusan angka, merubah huruf besar menjadi huruf kecil, menghapus tanda baca dan menghapus kalimat-kalimat yang sering muncul seperti kata sambung"
   ]
  },
  {
   "cell_type": "code",
   "execution_count": 4,
   "metadata": {},
   "outputs": [],
   "source": [
    "df = preprocessing(df)#preprocessing data training"
   ]
  },
  {
   "cell_type": "markdown",
   "metadata": {},
   "source": [
    "# Kata yang sering muncul berdasarkan Gender\n",
    "Kita akan melihat kata apa yang sering muncul di dalam corpus berdasarkan Gender pria atau wanita "
   ]
  },
  {
   "cell_type": "code",
   "execution_count": 5,
   "metadata": {},
   "outputs": [
    {
     "data": {
      "text/plain": [
       "wanita    55\n",
       "pria      50\n",
       "Name: Gender, dtype: int64"
      ]
     },
     "execution_count": 5,
     "metadata": {},
     "output_type": "execute_result"
    }
   ],
   "source": [
    "df.Gender.value_counts()"
   ]
  },
  {
   "cell_type": "code",
   "execution_count": 6,
   "metadata": {},
   "outputs": [],
   "source": [
    "pria = df[df['Gender'] == 'pria']\n",
    "wanita = df[df['Gender'] == 'wanita']\n",
    "pria_words = pd.Series(' '.join(pria['Komentar'].astype(str)).lower().split(\" \")).value_counts()[:20]\n",
    "wanita_words = pd.Series(' '.join(wanita['Komentar'].astype(str)).lower().split(\" \")).value_counts()[:20]"
   ]
  },
  {
   "cell_type": "code",
   "execution_count": 7,
   "metadata": {},
   "outputs": [
    {
     "data": {
      "text/plain": [
       "<matplotlib.axes._subplots.AxesSubplot at 0x1fb80e47e10>"
      ]
     },
     "execution_count": 7,
     "metadata": {},
     "output_type": "execute_result"
    },
    {
     "data": {
      "image/png": "[encoded data removed]",
      "text/plain": [
       "<Figure size 432x288 with 1 Axes>"
      ]
     },
     "metadata": {
      "needs_background": "light"
     },
     "output_type": "display_data"
    }
   ],
   "source": [
    "pria_words.plot(kind='bar',stacked=True, colormap='plasma')"
   ]
  },
  {
   "cell_type": "code",
   "execution_count": 8,
   "metadata": {},
   "outputs": [
    {
     "data": {
      "text/plain": [
       "<matplotlib.axes._subplots.AxesSubplot at 0x1fb80f46e48>"
      ]
     },
     "execution_count": 8,
     "metadata": {},
     "output_type": "execute_result"
    },
    {
     "data": {
      "image/png": "[encoded data removed]",
      "text/plain": [
       "<Figure size 432x288 with 1 Axes>"
      ]
     },
     "metadata": {
      "needs_background": "light"
     },
     "output_type": "display_data"
    }
   ],
   "source": [
    "wanita_words.plot(kind='bar',stacked=True, colormap='RdGy')"
   ]
  },
  {
   "cell_type": "code",
   "execution_count": 9,
   "metadata": {},
   "outputs": [
    {
     "data": {
      "text/plain": [
       "0    wiandra ribet kakel mah samperin aja langsung ...\n",
       "1    momogu kalo gw sih tergantung yg ngajak duluan...\n",
       "2    sabrinesophia newbie kalo ngerasa cowok ya bay...\n",
       "3    runarunarun pas pdkt ane nya sih maunya ditrak...\n",
       "4    andraolivia geek bayar sendirisendiri makan se...\n",
       "5    pachysandra ane sih demen pewangi pakaian ye g...\n",
       "6    dekyomoss cowo cool ngomong tetep becandacuman...\n",
       "7    aokichaâº cowo cool tuh serubisa bikin gw pena...\n",
       "8    sefrilâº cowo cool yg cuek gak peduli ama ling...\n",
       "9    lalalola kadang cowok dingin bikin cewek melel...\n",
       "Name: Komentar, dtype: object"
      ]
     },
     "execution_count": 9,
     "metadata": {},
     "output_type": "execute_result"
    }
   ],
   "source": [
    "x = df.iloc[:,0]#ambil berdasarkan kolom komentar\n",
    "y = df.iloc[:,1]#ambil berdasarkan kolom gender\n",
    "x.head(10)"
   ]
  },
  {
   "cell_type": "markdown",
   "metadata": {},
   "source": [
    "# Mengonversi kumpulan dokumen teks ke matriks jumlah token"
   ]
  },
  {
   "cell_type": "code",
   "execution_count": 10,
   "metadata": {},
   "outputs": [],
   "source": [
    "vectorizer = CountVectorizer()#panggil fungsi countvector\n",
    "X = vectorizer.fit_transform(x)#fit countvector pada kolom komentar training"
   ]
  },
  {
   "cell_type": "code",
   "execution_count": 11,
   "metadata": {},
   "outputs": [],
   "source": [
    "dt = pd.read_csv(\"komentar kaskus gender test.csv\")#baca data testing\n",
    "#dt = preprocessing(dt)# #preprocessing data testing"
   ]
  },
  {
   "cell_type": "code",
   "execution_count": 12,
   "metadata": {},
   "outputs": [],
   "source": [
    "x_train = X #alokasi variable xtraining (komentar training)\n",
    "y_train = y #alokasi variable ytraining (gender training)\n",
    "x_test = dt.iloc[:,0]#ambil berdasarkan kolom komentar\n",
    "y_test = dt.iloc[:,1]#ambil berdasarkan kolom gender\n",
    "x_test = vectorizer.transform(x_test)#fit countvector pada kolom komentar testing"
   ]
  },
  {
   "cell_type": "markdown",
   "metadata": {},
   "source": [
    "# Klasifikasi Menggunakan MNNB"
   ]
  },
  {
   "cell_type": "code",
   "execution_count": 24,
   "metadata": {},
   "outputs": [
    {
     "name": "stdout",
     "output_type": "stream",
     "text": [
      "Akurasi Prediksi  MNNB: 85.71428571428571 %\n"
     ]
    }
   ],
   "source": [
    "clf = MultinomialNB()#panggil fungsi Mutinomial naive bayes\n",
    "clf.fit(x_train,y_train)#fit fungsi MNNB pada x_train dan y_train\n",
    "predict=clf.predict(x_test) #prediksi dengan MNNB\n",
    "scoremnnb=clf.score(x_train,y_train) #skor dengan MNNB\n",
    "print(\"Akurasi Prediksi  MNNB:\",metrics.accuracy_score(y_test, predict)*100,'%') #print hasil akurasi MNNB\n"
   ]
  },
  {
   "cell_type": "code",
   "execution_count": 25,
   "metadata": {},
   "outputs": [
    {
     "name": "stdout",
     "output_type": "stream",
     "text": [
      "              precision    recall  f1-score   support\n",
      "\n",
      "        pria       0.86      0.86      0.86         7\n",
      "      wanita       0.86      0.86      0.86         7\n",
      "\n",
      "   micro avg       0.86      0.86      0.86        14\n",
      "   macro avg       0.86      0.86      0.86        14\n",
      "weighted avg       0.86      0.86      0.86        14\n",
      "\n"
     ]
    }
   ],
   "source": [
    "from sklearn import metrics\n",
    "print(metrics.classification_report(y_test, predict))"
   ]
  },
  {
   "cell_type": "markdown",
   "metadata": {},
   "source": [
    "# Klasifikasi Menggunakan Bagging MNNB"
   ]
  },
  {
   "cell_type": "code",
   "execution_count": 15,
   "metadata": {},
   "outputs": [
    {
     "name": "stdout",
     "output_type": "stream",
     "text": [
      "Akurasi Prediksi  MNNB dengan Bagging: 92.85714285714286 %\n"
     ]
    }
   ],
   "source": [
    "clf2 = BaggingClassifier(base_estimator=clf, n_estimators=100, random_state=10)#panggil fungsi bagging dengan MNNB sebagai base_estimator\n",
    "clf2.fit(x_train,y_train)#fit fungsi bagging pada x_train dan y_train\n",
    "predict2=clf2.predict(x_test)#prediksi MNNB dengan bagging\n",
    "bagging = np.array(predict2.tolist())#kolom gender hasil prediksi\n",
    "scorebagging=clf2.score(x_train,y_train)#skor MNNB dengan bagging\n",
    "print(\"Akurasi Prediksi  MNNB dengan Bagging:\",metrics.accuracy_score(y_test, predict2)*100,'%')#print hasil akurasi MNNB dengan bagging"
   ]
  },
  {
   "cell_type": "code",
   "execution_count": 16,
   "metadata": {},
   "outputs": [
    {
     "name": "stdout",
     "output_type": "stream",
     "text": [
      "              precision    recall  f1-score   support\n",
      "\n",
      "        pria       0.88      1.00      0.93         7\n",
      "      wanita       1.00      0.86      0.92         7\n",
      "\n",
      "   micro avg       0.93      0.93      0.93        14\n",
      "   macro avg       0.94      0.93      0.93        14\n",
      "weighted avg       0.94      0.93      0.93        14\n",
      "\n"
     ]
    }
   ],
   "source": [
    "from sklearn import metrics\n",
    "print(metrics.classification_report(y_test, predict2))"
   ]
  }
 ],
 "metadata": {
  "kernelspec": {
   "display_name": "Python 3",
   "language": "python",
   "name": "python3"
  },
  "language_info": {
   "codemirror_mode": {
    "name": "ipython",
    "version": 3
   },
   "file_extension": ".py",
   "mimetype": "text/x-python",
   "name": "python",
   "nbconvert_exporter": "python",
   "pygments_lexer": "ipython3",
   "version": "3.6.5"
  }
 },
 "nbformat": 4,
 "nbformat_minor": 2
}
